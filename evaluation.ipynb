{
 "cells": [
  {
   "cell_type": "code",
   "execution_count": 1,
   "id": "39966f25",
   "metadata": {},
   "outputs": [],
   "source": [
    "from langchain.prompts import PromptTemplate\n",
    "from dotenv import load_dotenv\n",
    "from langchain_openai import ChatOpenAI\n",
    "from langchain_core.output_parsers import StrOutputParser\n",
    "\n",
    "load_dotenv()"
   ]
  },
  {
   "cell_type": "code",
   "execution_count": 3,
   "id": "32e95132",
   "metadata": {},
   "outputs": [],
   "source": [
    "template = \"\"\"Your task is to evaluate the correctness of the response of another language model to a specific question \\\n",
    "related to customer service for an ecommerce bookstore. You are provided with the question, the gold standard answer \\\n",
    "and the response of the language model. Output your response as either 'CORRECT' or 'INCORRECT' based on the \\\n",
    "similarity of the response to the gold standard answer. \n",
    "\n",
    "Question: {question}\n",
    "\n",
    "Gold standard answer: {answer}\n",
    "\n",
    "Response to evaluate: {response}\"\"\"\n",
    "\n",
    "prompt = PromptTemplate(\n",
    "    template=template,\n",
    "    input_variables=[\"question\", \"answer\", \"response\"]\n",
    ")\n",
    "\n",
    "llm = ChatOpenAI(model=\"gpt-3.5-turbo\", temperature=0)\n",
    "\n",
    "str_parser = StrOutputParser()\n",
    "\n",
    "chain = prompt | llm | str_parser"
   ]
  },
  {
   "cell_type": "code",
   "execution_count": 11,
   "id": "b7687e01",
   "metadata": {},
   "outputs": [],
   "source": [
    "predictions = [\n",
    "{\n",
    "    'question': 'What are your shipping options for international orders?',\n",
    "    'answer': 'We offer various shipping options for international orders to cater to our customers worldwide. You can select your preferred shipping method during the checkout process. Our system will provide you with estimated delivery times and costs based on your location.',\n",
    "    'response': 'Thank you for your inquiry! We offer various shipping options for international orders to cater to our customers worldwide. You can select your preferred shipping method during the checkout process. Our system will provide you with estimated delivery times and costs based on your location. If you have any further questions, feel free to ask.',\n",
    "},\n",
    "{\n",
    "    'question': 'The book I bought yesterday arrived in perfect condition. Recommended!',\n",
    "    'answer': \"We're happy to hear that you're satisfied with your recent order. Providing excellent service and ensuring your books arrive in perfect condition is always our priority.\",\n",
    "    'response': \"Thank you for your feedback! We're glad to hear that the book you purchased is working wonderfully. We appreciate your recommendation and hope you continue to enjoy our products. If you have any further questions or need assistance, please don't hesitate to reach out.\"\n",
    "}, \n",
    "{\n",
    "    'question': 'What books do you have on self-help rated at least 4.7 stars?',\n",
    "    'answer': 'We have \"12 Rules for Life: An Antidote to Chaos\" by Jordan B. Peterson, which is rated 4.7 stars and is priced at $20.0, and \"Atomic Habits: An Easy & Proven Way to Build Good Habits & Break Bad Ones\" by James Clear, which is rated 4.8 stars and is priced at $25.99.',\n",
    "    'response': 'Thank you for your inquiry! We have two self-help books that are rated at least 4.7 stars. The first one is \"12 Rules for Life: An Antidote to Chaos\" by Jordan B. Peterson, which is rated 4.7 stars and is priced at $20.0. The second book is \"Atomic Habits: An Easy & Proven Way to Build Good Habits & Break Bad Ones\" by James Clear, which is rated 4.8 stars and is priced at $25.99. Let me know if you would like more information on either of these books or if you have any other questions.',\n",
    "},\n",
    "{\n",
    "    'question': 'I am billed an incorrect amount for my purchase. Can I get help to have the bill corrected?',\n",
    "    'answer': 'We are sorry to hear about that. Our billing team will look into this and be in contact with you shortly.',\n",
    "    'response': 'We apologize for the billing error on your purchase. Please provide us with your order details and the correct amount you should have been billed. Our customer service team will investigate this issue and work to correct the billing error promptly. Thank you for bringing this to our attention.',\n",
    "},\n",
    "{\n",
    "    'question': 'What is the rating and selling price of the book ‘Holly’ by Stephen King?',\n",
    "    'answer': 'We do not have the book ‘Holly’ by Stephen King in our store.',\n",
    "    'response': \"Thank you for your inquiry. Unfortunately, we do not have a book titled 'Holly' by Stephen King in our current inventory. If you are interested in other books by Stephen King, please let us know, and we would be happy to provide you with more information.\",\n",
    "}\n",
    "]"
   ]
  },
  {
   "cell_type": "code",
   "execution_count": 5,
   "id": "fe25b12c",
   "metadata": {},
   "outputs": [
    {
     "data": {
      "text/plain": [
       "'CORRECT'"
      ]
     },
     "execution_count": 5,
     "metadata": {},
     "output_type": "execute_result"
    }
   ],
   "source": [
    "chain.invoke(predictions[0])"
   ]
  },
  {
   "cell_type": "code",
   "execution_count": 6,
   "id": "4238d942",
   "metadata": {},
   "outputs": [
    {
     "data": {
      "text/plain": [
       "'INCORRECT'"
      ]
     },
     "execution_count": 6,
     "metadata": {},
     "output_type": "execute_result"
    }
   ],
   "source": [
    "chain.invoke(predictions[1])"
   ]
  },
  {
   "cell_type": "code",
   "execution_count": 14,
   "id": "539d64bb",
   "metadata": {},
   "outputs": [
    {
     "data": {
      "text/plain": [
       "'CORRECT'"
      ]
     },
     "execution_count": 14,
     "metadata": {},
     "output_type": "execute_result"
    }
   ],
   "source": [
    "chain.invoke(predictions[2])"
   ]
  },
  {
   "cell_type": "code",
   "execution_count": 8,
   "id": "8700b694",
   "metadata": {},
   "outputs": [
    {
     "data": {
      "text/plain": [
       "'CORRECT'"
      ]
     },
     "execution_count": 8,
     "metadata": {},
     "output_type": "execute_result"
    }
   ],
   "source": [
    "chain.invoke(predictions[3])"
   ]
  },
  {
   "cell_type": "code",
   "execution_count": 13,
   "id": "d7f9be69",
   "metadata": {},
   "outputs": [
    {
     "data": {
      "text/plain": [
       "'CORRECT'"
      ]
     },
     "execution_count": 13,
     "metadata": {},
     "output_type": "execute_result"
    }
   ],
   "source": [
    "chain.invoke(predictions[4])"
   ]
  },
  {
   "cell_type": "code",
   "execution_count": null,
   "id": "a7e5da59",
   "metadata": {},
   "outputs": [],
   "source": []
  }
 ],
 "metadata": {
  "kernelspec": {
   "display_name": "Python 3 (ipykernel)",
   "language": "python",
   "name": "python3"
  },
  "language_info": {
   "codemirror_mode": {
    "name": "ipython",
    "version": 3
   },
   "file_extension": ".py",
   "mimetype": "text/x-python",
   "name": "python",
   "nbconvert_exporter": "python",
   "pygments_lexer": "ipython3",
   "version": "3.11.5"
  }
 },
 "nbformat": 4,
 "nbformat_minor": 5
}
