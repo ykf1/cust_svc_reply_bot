{
 "cells": [
  {
   "cell_type": "markdown",
   "id": "a3bb1598",
   "metadata": {},
   "source": [
    "Steps in this notebook:\n",
    "1. Indexing: We will perform embeddings to create two vectorstores from two kinds of data sources. First is a couple of pairs of customer query and corresponding response to that query. This provides few shot examples in the prompt for the AI system to generate the reply to the customer. The second is product information from a knowledge base which in this case is stored in a csv file. A self-querying retriever is used as product information is stored in the Document metadata. The product information retrieved will be used as context in the LLM prompt.\n",
    "2. Construct the chains with LangChain Expression Language: As there are several tasks broken down into steps, there is a need to make a few LLM calls in a certain sequence. The steps are implemented in subchains and then put together in a final overall chain.\n",
    "3. Evaluation: Test the final chain with various test cases."
   ]
  },
  {
   "cell_type": "code",
   "execution_count": 1,
   "id": "289b1237",
   "metadata": {},
   "outputs": [],
   "source": [
    "from operator import itemgetter\n",
    "\n",
    "from dotenv import load_dotenv\n",
    "\n",
    "from langchain.chains.query_constructor.base import (\n",
    "    AttributeInfo, \n",
    "    StructuredQueryOutputParser, \n",
    "    get_query_constructor_prompt\n",
    ")\n",
    "from langchain.prompts import PromptTemplate\n",
    "from langchain.retrievers.self_query.base import SelfQueryRetriever, ChromaTranslator\n",
    "from langchain_community.vectorstores import Chroma\n",
    "from langchain_core.documents import Document\n",
    "from langchain_core.output_parsers import StrOutputParser, JsonOutputParser\n",
    "from langchain_core.runnables import (\n",
    "    RunnablePassthrough, \n",
    "    RunnableBranch, \n",
    "    RunnableLambda, \n",
    "    RunnableParallel\n",
    ")\n",
    "from langchain_openai import ChatOpenAI, OpenAIEmbeddings\n",
    "\n",
    "import pandas as pd\n",
    "\n",
    "load_dotenv()\n",
    "\n",
    "llm = ChatOpenAI(model=\"gpt-3.5-turbo\", temperature=0)"
   ]
  },
  {
   "cell_type": "markdown",
   "id": "7c0f21cd",
   "metadata": {},
   "source": [
    "### 1. Indexing"
   ]
  },
  {
   "cell_type": "code",
   "execution_count": 2,
   "id": "405a8b74",
   "metadata": {},
   "outputs": [],
   "source": [
    "embedding = OpenAIEmbeddings(model='text-embedding-ada-002')"
   ]
  },
  {
   "cell_type": "markdown",
   "id": "f42fee55",
   "metadata": {},
   "source": [
    "#### Create Few shot examples retriever"
   ]
  },
  {
   "cell_type": "code",
   "execution_count": 3,
   "id": "d42cdf81",
   "metadata": {},
   "outputs": [],
   "source": [
    "# Examples of pairs of customer query and corresponding response\n",
    "few_shot_docs = [\n",
    "    Document(\n",
    "        page_content='My order was damaged during shipping.', \n",
    "        metadata={'reply': \"We're sorry to hear that your order was damaged during shipping. We would be happy to send you a replacement order. Our customer service team will be in touch with you in 3 working days.\"}\n",
    "    ),\n",
    "    Document(\n",
    "        page_content='What are your shipping options for international orders?', \n",
    "        metadata={'reply': \"We offer various shipping options for international orders to cater to our customers worldwide. You can select your preferred shipping method during the checkout process. Our system will provide you with estimated delivery times and costs based on your location.\"}\n",
    "    ),\n",
    "    Document(\n",
    "        page_content=\"I'm extremely disappointed with the delay in the delivery of my order. It's been two weeks since I placed the order, and I still haven't received it. Can you provide an update on its status?\", \n",
    "        metadata={'reply': \"We sincerely apologize for the delay in delivering your order. We understand the importance of receiving your books in a timely manner and regret any inconvenience this may have caused. Our team is actively working to resolve the issue and expedite the delivery process. We'll provide you with a detailed update on the status of your order shortly. Thank you for your patience and understanding.\"}\n",
    "    ),\n",
    "    Document(\n",
    "        page_content=\"I recently received my order from your bookstore, and I'm very impressed with the packaging and the condition of the books. Thank you for the great service!\", \n",
    "        metadata={'reply': \"Thank you so much for your kind words! We're thrilled to hear that you're satisfied with your recent order. Providing excellent service and ensuring your books arrive in perfect condition is always our priority.\"}\n",
    "    ),\n",
    "    Document(\n",
    "        page_content=\"Hi, I'm interested in purchasing the latest bestseller by [Author's Name]. Can you confirm if it's available?\", \n",
    "        metadata={'reply': \"Thank you for your interest in our bookstore. Yes, we do carry books by [Author's Name]. We have [Book Title] rating: 4.6 stars Price: $26.50 and [Book Title] rating: 4.4 stars Price: $18.40 \"}\n",
    "    ),\n",
    "    Document(\n",
    "        page_content='Do you have the book Atomic Habits by James Clear?', \n",
    "        metadata={'reply': 'Thank you for your interest! Yes, we do have Atomic Habits by James Clear. It is rated 4.8 stars and is retailing for $25.99.'}\n",
    "    ),\n",
    "]\n",
    "\n",
    "# Create vector database and save to disk\n",
    "vectordb_fewshot = Chroma.from_documents(\n",
    "    persist_directory=\"vectordb/few_shot\",\n",
    "    embedding=embedding,\n",
    "    documents=few_shot_docs\n",
    ")\n",
    "vectordb_fewshot.persist()"
   ]
  },
  {
   "cell_type": "code",
   "execution_count": 4,
   "id": "d62c3d5e",
   "metadata": {},
   "outputs": [],
   "source": [
    "# Read vectordb_fewshot\n",
    "vectordb_fewshot = Chroma(\n",
    "    persist_directory=\"vectordb/few_shot\",\n",
    "    embedding_function=embedding\n",
    ")\n",
    "\n",
    "# Create retriever with return only 1 value.\n",
    "fewshot_retriever = vectordb_fewshot.as_retriever(search_kwargs={\"k\": 1})"
   ]
  },
  {
   "cell_type": "markdown",
   "id": "206e7973",
   "metadata": {},
   "source": [
    "#### Create self query retriever"
   ]
  },
  {
   "cell_type": "code",
   "execution_count": 5,
   "id": "7e794ddc",
   "metadata": {},
   "outputs": [
    {
     "name": "stdout",
     "output_type": "stream",
     "text": [
      "<class 'pandas.core.frame.DataFrame'>\n",
      "RangeIndex: 8 entries, 0 to 7\n",
      "Data columns (total 9 columns):\n",
      " #   Column            Non-Null Count  Dtype         \n",
      "---  ------            --------------  -----         \n",
      " 0   product_ID        8 non-null      int64         \n",
      " 1   book_name         8 non-null      object        \n",
      " 2   author            8 non-null      object        \n",
      " 3   genre             8 non-null      object        \n",
      " 4   rating            8 non-null      float64       \n",
      " 5   price             8 non-null      float64       \n",
      " 6   release_date      8 non-null      datetime64[ns]\n",
      " 7   book_description  8 non-null      object        \n",
      " 8   year              8 non-null      int64         \n",
      "dtypes: datetime64[ns](1), float64(2), int64(2), object(4)\n",
      "memory usage: 708.0+ bytes\n"
     ]
    }
   ],
   "source": [
    "# Read Product information as dataframe from csv\n",
    "df = pd.read_csv(r\"csv_data_source/products_listing.csv\")\n",
    "df['release_date'] = pd.to_datetime(df['release_date'], format=\"%d-%b-%y\")\n",
    "df['year'] = df['release_date'].dt.year\n",
    "df = df.applymap(lambda x: x.strip() if isinstance(x, str) else x)\n",
    "df.info()"
   ]
  },
  {
   "cell_type": "code",
   "execution_count": 6,
   "id": "05847a8b",
   "metadata": {},
   "outputs": [],
   "source": [
    "# Convert dataframe to list of Documents\n",
    "def load_df_as_documents(df: pd.DataFrame) -> list:\n",
    "    return [\n",
    "        Document(\n",
    "            page_content= row['book_description'],\n",
    "            metadata={\n",
    "                \"title\": row['book_name'],\n",
    "                \"author\": row['author'],\n",
    "                \"genre\": row['genre'],\n",
    "                \"rating\": row['rating'],\n",
    "                \"price\": row['price'],\n",
    "                \"year\": row['year']\n",
    "            }\n",
    "        )\n",
    "        for index, row in df.iterrows()\n",
    "    ]\n",
    "\n",
    "docs = load_df_as_documents(df)\n",
    "\n",
    "# Create vector database\n",
    "persist_directory = './vectordb/product'\n",
    "vectordb_product = Chroma.from_documents(\n",
    "    documents=docs,\n",
    "    embedding=embedding,\n",
    "    persist_directory=persist_directory\n",
    ")\n",
    "vectordb_product.persist()"
   ]
  },
  {
   "cell_type": "code",
   "execution_count": 7,
   "id": "ce24afbd",
   "metadata": {},
   "outputs": [],
   "source": [
    "# Read from vectordb\n",
    "vectordb_product = Chroma(\n",
    "    persist_directory='./vectordb/product',\n",
    "    embedding_function=embedding\n",
    ")\n",
    "\n",
    "# Describe metadata, document content and provide few shot examples for query constructor\n",
    "metadata_field_info = [\n",
    "    AttributeInfo(\n",
    "        name='title',\n",
    "        description=\"The book title\",\n",
    "        type=\"string\",\n",
    "    ),\n",
    "    AttributeInfo(\n",
    "        name='author',\n",
    "        description=\"The author of the book\",\n",
    "        type=\"string\",\n",
    "    ),\n",
    "    AttributeInfo(\n",
    "        name='genre',\n",
    "        description=\"The genre of the book. Valid values are: ['self-help', 'health', 'history', 'biography', 'science']\",\n",
    "        type=\"string\",\n",
    "    ),\n",
    "    AttributeInfo(\n",
    "        name='rating', \n",
    "        description=\"An average 0-5 rating by reviewers on the online book store\", \n",
    "        type=\"float\"\n",
    "    ),\n",
    "    AttributeInfo(\n",
    "        name='price', \n",
    "        description=\"The price of the book in dollars\", \n",
    "        type=\"float\"\n",
    "    ),\n",
    "    AttributeInfo(\n",
    "        name='year', \n",
    "        description=\"The year the book is published.\", \n",
    "        type=\"integer\"\n",
    "    )\n",
    "]\n",
    "\n",
    "document_content_description = \"Detailed book description\"\n",
    "\n",
    "examples = [\n",
    "    (\n",
    "        \"Tell me more about the book Atomic Habits.\",\n",
    "        {\n",
    "            \"query\": \"Atomic Habits\",\n",
    "            \"filter\": '',\n",
    "        },\n",
    "    ),\n",
    "    (\n",
    "        \"what books on the self-help genre do you have and have a rating of at least 4.7?\",\n",
    "        {\n",
    "            \"query\": \"\",\n",
    "            \"filter\": 'and(eq(\"genre\", \"self-help\"), gte(\"rating\", 4.7))',\n",
    "        },\n",
    "    ),\n",
    "    (\n",
    "        \"what is the price of the book on human history by Yuval Noah Harari?\",\n",
    "        {\n",
    "            \"query\": \"human history\",\n",
    "            \"filter\": 'eq(\"author\", \"Yuval Noah Harari\")',\n",
    "        },\n",
    "    ),\n",
    "    (\n",
    "        \"I am a big fan of the author Walter Isaacson. I want to know more about the book he wrote on Benjamin Franklin.\",\n",
    "        {\n",
    "            \"query\": \"Benjamin Franklin\",\n",
    "            \"filter\": 'eq(\"author\", \"Walter Isaacson\")',\n",
    "        },\n",
    "    ),\n",
    "]\n",
    "\n",
    "# Creates the prompt to query the vectorstore, customisable through provided parameters\n",
    "prompt = get_query_constructor_prompt(\n",
    "    document_contents=document_content_description,\n",
    "    attribute_info=metadata_field_info,\n",
    "    examples=examples\n",
    ")\n",
    "\n",
    "output_parser = StructuredQueryOutputParser.from_components()\n",
    "\n",
    "query_constructor = prompt | llm | output_parser\n",
    "\n",
    "selfqueryretriever = SelfQueryRetriever(\n",
    "    query_constructor=query_constructor,\n",
    "    vectorstore=vectordb_product,\n",
    "    structured_query_translator=ChromaTranslator(),\n",
    ")"
   ]
  },
  {
   "cell_type": "markdown",
   "id": "2c0b5531",
   "metadata": {},
   "source": [
    "#### 2. Construct LCEL Chains"
   ]
  },
  {
   "cell_type": "code",
   "execution_count": 8,
   "id": "b1d4343b",
   "metadata": {},
   "outputs": [],
   "source": [
    "json_parser = JsonOutputParser()\n",
    "str_parser = StrOutputParser()"
   ]
  },
  {
   "cell_type": "markdown",
   "id": "5bd491e1",
   "metadata": {},
   "source": [
    "#### Language chain\n",
    "Classify language from the customer feedback / complaint / query.\n",
    "If language is not in English, translate to English."
   ]
  },
  {
   "cell_type": "code",
   "execution_count": 9,
   "id": "417f4969",
   "metadata": {},
   "outputs": [],
   "source": [
    "language_classification_template = \"\"\"Given an input text, classify the language. Return only a single word. \\\n",
    "Example output: Korean\n",
    "Example output: English\n",
    "\n",
    "Input: {input}\"\"\"\n",
    "\n",
    "language_classification_prompt = PromptTemplate(\n",
    "    template=language_classification_template,\n",
    "    input_variables=[\"input\"]\n",
    ")\n",
    "\n",
    "language_classification_chain = language_classification_prompt | llm | str_parser"
   ]
  },
  {
   "cell_type": "code",
   "execution_count": 10,
   "id": "ed319092",
   "metadata": {},
   "outputs": [],
   "source": [
    "language_translate_template = \"\"\"Given an input text in {language}, translate to English. Keep the tone of the text the \\\n",
    "same in your translation.\n",
    "Input: {input}\"\"\"\n",
    "\n",
    "language_translate_prompt = PromptTemplate(\n",
    "    template=language_translate_template,\n",
    "    input_variables=[\"input\", \"language\"]\n",
    ")\n",
    "\n",
    "language_translate_chain = language_translate_prompt | llm | str_parser"
   ]
  },
  {
   "cell_type": "code",
   "execution_count": 11,
   "id": "7ddc2f84",
   "metadata": {},
   "outputs": [],
   "source": [
    "language_chain = (\n",
    "    RunnablePassthrough.assign(\n",
    "        # Classify the input text from the customer\n",
    "        language = language_classification_chain\n",
    "    ) \n",
    "    | RunnablePassthrough.assign(\n",
    "        en_query = RunnableBranch(\n",
    "            # if English, return the input text as is\n",
    "            (lambda x: x['language'] == \"English\", lambda x: x['input']),\n",
    "            # Else if not English, translate the input text to English\n",
    "            language_translate_chain\n",
    "        )\n",
    "    )\n",
    ")"
   ]
  },
  {
   "cell_type": "markdown",
   "id": "b7264717",
   "metadata": {},
   "source": [
    "#### Text Classification Chain\n",
    "Perform classification tasks – sentiment analysis and subject classification"
   ]
  },
  {
   "cell_type": "code",
   "execution_count": 12,
   "id": "33b97d41",
   "metadata": {},
   "outputs": [],
   "source": [
    "text_classification_template = \"\"\"Given a customer query or feedback for an e-commerce book store, categorise the sentiment \\\n",
    "and subject of the customer input. Sentiment should be one of three categories: [positive, negative, neutral]. \\\n",
    "Subject should be one of the following categories: [billing, product, delivery, service, website, other]. \\\n",
    "Here is a description for categories:\n",
    "Billing: Relates to invoicing and payments\n",
    "Product: Relates to the books the e-commerce book store is selling\n",
    "Delivery: Relates to shipping of the products to the customer\n",
    "Service: Relates to the customer service experience.\n",
    "Website: Relates to the website of the e-commerce book store\n",
    "Use other if you are unable to classify the subject.\n",
    "\n",
    "Return your answer in JSON format with keys \"sentiment\" and \"subject\". \n",
    "Example output:\n",
    "{{\"sentiment\": \"neutral\", \"subject\": \"product\"}}\n",
    "\n",
    "Input from customer: {en_query}\n",
    "\"\"\"\n",
    "\n",
    "text_classification_prompt = PromptTemplate(\n",
    "    template=text_classification_template,\n",
    "    input_variables=[\"en_query\"]\n",
    ")\n",
    "\n",
    "text_classification_chain = text_classification_prompt | llm | json_parser"
   ]
  },
  {
   "cell_type": "markdown",
   "id": "ce83a1a1",
   "metadata": {},
   "source": [
    "#### Example retriever chain\n",
    "Use the retriever tool to obtain few shot examples."
   ]
  },
  {
   "cell_type": "code",
   "execution_count": 13,
   "id": "e3b7deb0",
   "metadata": {},
   "outputs": [],
   "source": [
    "def dict_parser(documents: list[Document]) -> dict:\n",
    "    doc = documents[0]\n",
    "    return {\"question\": doc.page_content, \"answer\": doc.metadata['reply']}\n",
    "\n",
    "example_retriever_chain = itemgetter(\"en_query\") | fewshot_retriever | RunnableLambda(dict_parser)"
   ]
  },
  {
   "cell_type": "markdown",
   "id": "1591d7de",
   "metadata": {},
   "source": [
    "#### Product chain\n",
    "If subject is on product and if product information is required to answer the question, use self query retriever tool."
   ]
  },
  {
   "cell_type": "code",
   "execution_count": 14,
   "id": "1f30d3cd",
   "metadata": {},
   "outputs": [],
   "source": [
    "product_template = \"\"\"You are a helpful customer service assistant for an e-commerce book store. Given a customer \n",
    "query or feedback that is on the subject of product (i.e. books), determine if the customer is asking for information \n",
    "about books or not. Return your answer in JSON output format with keys \"query_product_info\" and \"query_to_knowledge_base\".\n",
    "\n",
    "If the customer is not asking for information about books, return \"query_product_info\" as false and \n",
    "\"query_to_knowledge_base\" as an empty string.\n",
    "\n",
    "If the customer is asking for information about books, return \"query_product_info\" as true. Next, construct a query that \n",
    "will be used to search a knowledge base for the required information on books. The query needs to be specific in \n",
    "specifying the metadata of the knowledge base. Product information can be searched for using the following \n",
    "metadata: [title, author, genre, rating, price, year]. Output the query in \"query_to_knowledge_base\" key.\n",
    "\n",
    "Example 1:\n",
    "\n",
    "Input from customer: What books do you have on biographies out in 2023?\n",
    "\n",
    "Answer in JSON:\n",
    "{{\"query_product_info\": true, \"query_to_knowledge_base\": \"What are books that have a genre \"biography\" and published in the year '2023'?\"}}\n",
    "\n",
    "Example 2:\n",
    "\n",
    "Input from customer: \"I am happy with the book I bought last week. Finished reading it today and it was great!\"\n",
    "\n",
    "Answer in JSON:\n",
    "{{\"query_product_info\": false, \"query_to_knowledge_base\": \"\"}}\n",
    "\n",
    "Example 3:\n",
    "\n",
    "Input from customer: \"I am a big fan of [author_name]. What books do you have written by him?\"\n",
    "\n",
    "Answer in JSON:\n",
    "{{\"query_product_info\": true, \"query_to_knowledge_base\": \"What are books that are written by the author '[author_name]'?\"}}\n",
    "\n",
    "Input from customer: {en_query}\n",
    "\n",
    "Answer in JSON:\n",
    "\"\"\"\n",
    "\n",
    "product_prompt = PromptTemplate(\n",
    "    template=product_template,\n",
    "    input_variables=[\"en_query\"]\n",
    ")\n",
    "\n",
    "product_chain = (\n",
    "    product_prompt \n",
    "    | llm \n",
    "    | json_parser\n",
    "    | RunnableBranch(\n",
    "        (lambda x: x[\"query_product_info\"], itemgetter(\"query_to_knowledge_base\") | selfqueryretriever), \n",
    "        lambda x: \"\"\n",
    "    )\n",
    ")"
   ]
  },
  {
   "cell_type": "markdown",
   "id": "77aa6bd6",
   "metadata": {},
   "source": [
    "#### Reply contructor chain\n",
    "Construct the prompt with the few shot examples and product context, and prompt the LLM to construct the response to answer the customer’s question "
   ]
  },
  {
   "cell_type": "code",
   "execution_count": 15,
   "id": "0c44e903",
   "metadata": {},
   "outputs": [],
   "source": [
    "reply_constructor_template = \"\"\"You are a helpful customer service assistant for an e-commerce book store. Given a customer \\\n",
    "query or feedback, draft a concise reply to the customer. You are provided with context and an example response to help you \\\n",
    "draft the reply. You may not need to rely on the example if you find it not relevant to the customer input.\n",
    "\n",
    "Context: {context}\n",
    "\n",
    "Example: {example}\n",
    "\n",
    "Input from customer: {en_query}\n",
    "\n",
    "Reply:\n",
    "\"\"\"\n",
    "\n",
    "reply_constructor_prompt = PromptTemplate(\n",
    "    template=reply_constructor_template,\n",
    "    input_variables=[\"en_query\", \"example\", \"context\"]\n",
    ")\n",
    "\n",
    "reply_constructor_chain = reply_constructor_prompt | llm | str_parser"
   ]
  },
  {
   "cell_type": "markdown",
   "id": "326a9e55",
   "metadata": {},
   "source": [
    "#### Translation chain\n",
    "Translate back to customer's original language if necessary."
   ]
  },
  {
   "cell_type": "code",
   "execution_count": 16,
   "id": "1b4d4a45",
   "metadata": {},
   "outputs": [],
   "source": [
    "translation_template = \"\"\"Translate the following text in English into {language}, keeping the tone the same.\n",
    "Text: {en_reply}\n",
    "\"\"\"\n",
    "\n",
    "translation_prompt = PromptTemplate(\n",
    "    template=translation_template,\n",
    "    input_variables=[\"en_reply\", \"language\"]\n",
    ")\n",
    "\n",
    "translation_chain = RunnableBranch(\n",
    "        (lambda x: x[\"language\"] == \"English\", itemgetter(\"en_reply\")),\n",
    "        translation_prompt | llm | str_parser\n",
    "    )"
   ]
  },
  {
   "cell_type": "markdown",
   "id": "47e12982",
   "metadata": {},
   "source": [
    "#### Final chain"
   ]
  },
  {
   "cell_type": "code",
   "execution_count": 17,
   "id": "45245676",
   "metadata": {},
   "outputs": [],
   "source": [
    "def flatten(inp: dict) -> dict:\n",
    "    \"\"\"Flatten the dictionary. \"\"\"\n",
    "    output = {}\n",
    "    for key, value in inp.items():\n",
    "        if key == \"classification_response\":\n",
    "            for k, v in value.items():\n",
    "                output[k] = v\n",
    "        else:\n",
    "            output[key] = value\n",
    "    return output"
   ]
  },
  {
   "cell_type": "code",
   "execution_count": 18,
   "id": "bc8701da",
   "metadata": {},
   "outputs": [],
   "source": [
    "final_chain = (\n",
    "    \n",
    "    # Classify and translate customer input\n",
    "    language_chain \n",
    "    \n",
    "    # Run both text_classification_chain and example_retriever_chain in parallel\n",
    "    | RunnableParallel({\n",
    "        \"input\": itemgetter(\"input\"),\n",
    "        \"language\": itemgetter(\"language\"),\n",
    "        \"en_query\": itemgetter(\"en_query\"),\n",
    "        \"classification_response\": text_classification_chain,\n",
    "        \"example\": example_retriever_chain\n",
    "    }) \n",
    "    \n",
    "    # Flatten classification_response\n",
    "    | RunnableLambda(flatten) \n",
    "    \n",
    "    # Route to the appropriate chain based on subject\n",
    "    | RunnablePassthrough.assign(\n",
    "        context = RunnableBranch(\n",
    "            (lambda x: x[\"subject\"] == \"product\", product_chain),\n",
    "            lambda x: \"\"\n",
    "        )\n",
    "    )\n",
    "    \n",
    "    # Construct the reply using few shot example and context\n",
    "    | RunnablePassthrough.assign(\n",
    "        en_reply = reply_constructor_chain\n",
    "    )\n",
    "    \n",
    "    # Translate to original language as response to the customer\n",
    "    | RunnablePassthrough.assign(\n",
    "        output = translation_chain\n",
    "    )\n",
    ")"
   ]
  },
  {
   "cell_type": "markdown",
   "id": "55ec6321",
   "metadata": {},
   "source": [
    "#### 3. Evaluation: Test cases"
   ]
  },
  {
   "cell_type": "code",
   "execution_count": 19,
   "id": "71c6fcc8",
   "metadata": {},
   "outputs": [],
   "source": [
    "questions = [\n",
    "    # English, not about product\n",
    "    \"What are your shipping options for international orders?\",\n",
    "    \n",
    "    # non-English, about product, no need product info\n",
    "    \"Il libro che ho comprato ieri è arrivato in perfette condizioni. Consigliato!\",\n",
    "    \n",
    "    # non-English, about product, need product info\n",
    "    \"What books do you have on self-help rated at least 4.7 stars?\",\n",
    "    \n",
    "    # No few shot example available for this query (irrelevant example)\n",
    "    \"I am billed an incorrect amount for my purchase. Can I get help to have the bill corrected?\",\n",
    "    \n",
    "    # Query about a product that does not exist and irrelevant documents from the retriever (irrelevant context)\n",
    "    \"What is the rating and selling price of the book ‘Holly’ by Stephen King?\"\n",
    "]"
   ]
  },
  {
   "cell_type": "code",
   "execution_count": 22,
   "id": "62eaba65",
   "metadata": {},
   "outputs": [
    {
     "data": {
      "text/plain": [
       "{'input': 'What are your shipping options for international orders?',\n",
       " 'language': 'English',\n",
       " 'en_query': 'What are your shipping options for international orders?',\n",
       " 'sentiment': 'neutral',\n",
       " 'subject': 'delivery',\n",
       " 'example': {'question': 'What are your shipping options for international orders?',\n",
       "  'answer': 'We offer various shipping options for international orders to cater to our customers worldwide. You can select your preferred shipping method during the checkout process. Our system will provide you with estimated delivery times and costs based on your location.'},\n",
       " 'context': '',\n",
       " 'en_reply': 'We offer various shipping options for international orders to cater to our customers worldwide. You can select your preferred shipping method during the checkout process. Our system will provide you with estimated delivery times and costs based on your location.',\n",
       " 'output': 'We offer various shipping options for international orders to cater to our customers worldwide. You can select your preferred shipping method during the checkout process. Our system will provide you with estimated delivery times and costs based on your location.'}"
      ]
     },
     "execution_count": 22,
     "metadata": {},
     "output_type": "execute_result"
    }
   ],
   "source": [
    "final_chain.invoke({'input': questions[0]})"
   ]
  },
  {
   "cell_type": "code",
   "execution_count": 23,
   "id": "075b3bf8",
   "metadata": {},
   "outputs": [
    {
     "data": {
      "text/plain": [
       "{'input': 'Il libro che ho comprato ieri è arrivato in perfette condizioni. Consigliato!',\n",
       " 'language': 'Italian',\n",
       " 'en_query': 'Output: The book I bought yesterday arrived in perfect condition. Highly recommended!',\n",
       " 'sentiment': 'positive',\n",
       " 'subject': 'delivery',\n",
       " 'example': {'question': \"I recently received my order from your bookstore, and I'm very impressed with the packaging and the condition of the books. Thank you for the great service!\",\n",
       "  'answer': \"Thank you so much for your kind words! We're thrilled to hear that you're satisfied with your recent order. Providing excellent service and ensuring your books arrive in perfect condition is always our priority.\"},\n",
       " 'context': '',\n",
       " 'en_reply': \"Thank you for your feedback! We're delighted to hear that the book you purchased arrived in perfect condition. We appreciate your recommendation and hope you enjoy your new read!\",\n",
       " 'output': 'Grazie per il tuo feedback! Siamo felici di sapere che il libro che hai acquistato è arrivato in perfette condizioni. Apprezziamo il tuo consiglio e speriamo che tu possa goderti la tua nuova lettura!'}"
      ]
     },
     "execution_count": 23,
     "metadata": {},
     "output_type": "execute_result"
    }
   ],
   "source": [
    "final_chain.invoke({'input': questions[1]})"
   ]
  },
  {
   "cell_type": "code",
   "execution_count": 24,
   "id": "31286475",
   "metadata": {
    "scrolled": true
   },
   "outputs": [
    {
     "data": {
      "text/plain": [
       "{'input': 'What books do you have on self-help rated at least 4.7 stars?',\n",
       " 'language': 'English',\n",
       " 'en_query': 'What books do you have on self-help rated at least 4.7 stars?',\n",
       " 'sentiment': 'neutral',\n",
       " 'subject': 'product',\n",
       " 'example': {'question': 'Do you have the book Atomic Habits by James Clear?',\n",
       "  'answer': 'Thank you for your interest! Yes, we do have Atomic Habits by James Clear. It is rated 4.8 stars and is retailing for $25.99.'},\n",
       " 'context': [Document(page_content=\"#1 NATIONAL BESTSELLER \\n\\n#1 INTERNATIONAL BESTSELLER\\n\\nWhat does everyone in the modern world need to know?\\n\\nRenowned psychologist Jordan B. Peterson's answer to this most difficult of questions uniquely combines the hard-won truths of ancient tradition with the stunning revelations of cutting-edge scientific research.\\n\\nHumorous, surprising and informative, Dr. Peterson tells us why skateboarding boys and girls must be left alone, what terrible fate awaits those who criticize too easily, and why you should always pet a cat when you meet one on the street.\\n\\nWhat does the nervous system of the lowly lobster have to tell us about standing up straight (with our shoulders back) and about success in life? Why did ancient Egyptians worship the capacity to pay careful attention as the highest of gods? What dreadful paths do people tread when they become resentful, arrogant and vengeful?\\n\\nDr. Peterson journeys broadly, discussing discipline, freedom, adventure and responsibility, distilling the world's wisdom into 12 practical and profound rules for life. 12 Rules for Life shatters the modern commonplaces of science, faith and human nature, while transforming and ennobling the mind and spirit of its readers.\", metadata={'author': 'Jordan B. Peterson', 'genre': 'self-help', 'price': 20.0, 'rating': 4.7, 'title': '12 Rules for Life: An Antidote to Chaos', 'year': 2018}),\n",
       "  Document(page_content=\"The number one New York Times best seller. Over one million copies sold!\\n\\nTiny Changes, Remarkable Results\\n\\nNo matter your goals, Atomic Habits offers a proven framework for improving - every day. James Clear, one of the world's leading experts on habit formation, reveals practical strategies that will teach you exactly how to form good habits, break bad ones, and master the tiny behaviors that lead to remarkable results.\\n\\nIf you're having trouble changing your habits, the problem isn't you. The problem is your system. Bad habits repeat themselves again and again not because you don't want to change, but because you have the wrong system for change. You do not rise to the level of your goals. You fall to the level of your systems. Here, you'll get a proven system that can take you to new heights.\\n\\nClear is known for his ability to distill complex topics into simple behaviors that can be easily applied to daily life and work. Here, he draws on the most proven ideas from biology, psychology, and neuroscience to create an easy-to-understand guide for making good habits inevitable and bad habits impossible. Along the way, listeners will be inspired and entertained with true stories from Olympic gold medalists, award-winning artists, business leaders, life-saving physicians, and star comedians who have used the science of small habits to master their craft and vault to the top of their field.\\n\\nLearn how to:\\n\\n    Make time for new habits (even when life gets crazy)\\n    Overcome a lack of motivation and willpower\\n    Design your environment to make success easier\\n    Get back on track when you fall off course\\n    And much more\\n\\nAtomic Habits will reshape the way you think about progress and success, and give you the tools and strategies you need to transform your habits - whether you are a team looking to win a championship, an organization hoping to redefine an industry, or simply an individual who wishes to quit smoking, lose weight, reduce stress, or achieve any other goal.\", metadata={'author': 'James Clear', 'genre': 'self-help', 'price': 25.99, 'rating': 4.8, 'title': 'Atomic Habits: An Easy & Proven Way to Build Good Habits & Break Bad Ones', 'year': 2018})],\n",
       " 'en_reply': 'Thank you for your inquiry! We have two self-help books rated at least 4.7 stars in our store. The first one is \"12 Rules for Life: An Antidote to Chaos\" by Jordan B. Peterson, rated 4.7 stars and priced at $20. The second one is \"Atomic Habits: An Easy & Proven Way to Build Good Habits & Break Bad Ones\" by James Clear, rated 4.8 stars and priced at $25.99. Let us know if you would like more information on either of these books!',\n",
       " 'output': 'Thank you for your inquiry! We have two self-help books rated at least 4.7 stars in our store. The first one is \"12 Rules for Life: An Antidote to Chaos\" by Jordan B. Peterson, rated 4.7 stars and priced at $20. The second one is \"Atomic Habits: An Easy & Proven Way to Build Good Habits & Break Bad Ones\" by James Clear, rated 4.8 stars and priced at $25.99. Let us know if you would like more information on either of these books!'}"
      ]
     },
     "execution_count": 24,
     "metadata": {},
     "output_type": "execute_result"
    }
   ],
   "source": [
    "final_chain.invoke({'input': questions[2]})"
   ]
  },
  {
   "cell_type": "code",
   "execution_count": 20,
   "id": "f4f94f9f",
   "metadata": {},
   "outputs": [
    {
     "data": {
      "text/plain": [
       "{'input': 'I am billed an incorrect amount for my purchase. Can I get help to have the bill corrected?',\n",
       " 'language': 'English',\n",
       " 'en_query': 'I am billed an incorrect amount for my purchase. Can I get help to have the bill corrected?',\n",
       " 'sentiment': 'negative',\n",
       " 'subject': 'billing',\n",
       " 'example': {'question': 'My order was damaged during shipping.',\n",
       "  'answer': \"We're sorry to hear that your order was damaged during shipping. We would be happy to send you a replacement order. Our customer service team will be in touch with you in 3 working days.\"},\n",
       " 'context': '',\n",
       " 'en_reply': 'We apologize for the billing error on your purchase. Please provide us with your order details and the correct amount you should have been billed. Our customer service team will investigate this issue and work to correct the billing error promptly. Thank you for bringing this to our attention.',\n",
       " 'output': 'We apologize for the billing error on your purchase. Please provide us with your order details and the correct amount you should have been billed. Our customer service team will investigate this issue and work to correct the billing error promptly. Thank you for bringing this to our attention.'}"
      ]
     },
     "execution_count": 20,
     "metadata": {},
     "output_type": "execute_result"
    }
   ],
   "source": [
    "final_chain.invoke({'input': questions[3]})"
   ]
  },
  {
   "cell_type": "code",
   "execution_count": 21,
   "id": "cf577c0d",
   "metadata": {},
   "outputs": [
    {
     "data": {
      "text/plain": [
       "{'input': 'What is the rating and selling price of the book ‘Holly’ by Stephen King?',\n",
       " 'language': 'English',\n",
       " 'en_query': 'What is the rating and selling price of the book ‘Holly’ by Stephen King?',\n",
       " 'sentiment': 'neutral',\n",
       " 'subject': 'product',\n",
       " 'example': {'question': \"Hi, I'm interested in purchasing the latest bestseller by [Author's Name]. Can you confirm if it's available?\",\n",
       "  'answer': \"Thank you for your interest in our bookstore. Yes, we do carry books by [Author's Name]. We have [Book Title] rating: 4.6 stars Price: $26.50 and [Book Title] rating: 4.4 stars Price: $18.40 \"},\n",
       " 'context': [Document(page_content='#1 New York Times bestseller\\n\\nFrom the author of Steve Jobs and other bestselling biographies, this is the astonishingly intimate story of the most fascinating and controversial innovator of our era—a rule-breaking visionary who helped to lead the world into the era of electric vehicles, private space exploration, and artificial intelligence. Oh, and took over Twitter.\\n\\nWhen Elon Musk was a kid in South Africa, he was regularly beaten by bullies. One day a group pushed him down some concrete steps and kicked him until his face was a swollen ball of flesh. He was in the hospital for a week. But the physical scars were minor compared to the emotional ones inflicted by his father, an engineer, rogue, and charismatic fantasist.\\n\\nHis father’s impact on his psyche would linger. He developed into a tough yet vulnerable man-child, prone to abrupt Jekyll-and-Hyde mood swings, with an exceedingly high tolerance for risk, a craving for drama, an epic sense of mission, and a maniacal intensity that was callous and at times destructive.\\n\\nAt the beginning of 2022—after a year marked by SpaceX launching thirty-one rockets into orbit, Tesla selling a million cars, and him becoming the richest man on earth—Musk spoke ruefully about his compulsion to stir up dramas. “I need to shift my mindset away from being in crisis mode, which it has been for about fourteen years now, or arguably most of my life,” he said.\\n\\nIt was a wistful comment, not a New Year’s resolution. Even as he said it, he was secretly buying up shares of Twitter, the world’s ultimate playground. Over the years, whenever he was in a dark place, his mind went back to being bullied on the playground. Now he had the chance to own the playground.\\n\\nFor two years, Isaacson shadowed Musk, attended his meetings, walked his factories with him, and spent hours interviewing him, his family, friends, coworkers, and adversaries. The result is the revealing inside story, filled with amazing tales of triumphs and turmoil, that addresses the question: are the demons that drive Musk also what it takes to drive innovation and progress?', metadata={'author': 'Walter Isaacson', 'genre': 'biography', 'price': 36.75, 'rating': 4.7, 'title': 'Elon Musk', 'year': 2023}),\n",
       "  Document(page_content='THE INSPIRATION FOR THE MAJOR MOTION PICTURE OPPENHEIMER • \"A riveting account of one of history’s most essential and paradoxical figures.”—Christopher Nolan\\n\\n#1 NEW YORK TIMES BESTSELLER • PULITZER PRIZE WINNER • The definitive biography of J. Robert Oppenheimer, one of the iconic figures of the twentieth century, a brilliant physicist who led the effort to build the atomic bomb for his country in a time of war, and who later found himself confronting the moral consequences of scientific progress.\\n\\nIn this magisterial, acclaimed biography twenty-five years in the making, Kai Bird and Martin Sherwin capture Oppenheimer’s life and times, from his early career to his central role in the Cold War. This is biography and history at its finest, riveting and deeply informative.\\n\\n“A masterful account of Oppenheimer’s rise and fall, set in the context of the turbulent decades of America’s own transformation. It is a tour de force.” —Los Angeles Times Book Review\\n\\n“A work of voluminous scholarship and lucid insight, unifying its multifaceted portrait with a keen grasp of Oppenheimer’s essential nature.... It succeeds in deeply fathoming his most damaging, self-contradictory behavior.” —The New York Times', metadata={'author': 'Kai Bird', 'genre': 'biography', 'price': 26.14, 'rating': 4.7, 'title': 'American Prometheus: The Inspiration for the Major Motion Picture OPPENHEIMER', 'year': 2006}),\n",
       "  Document(page_content=\"The number one New York Times best seller. Over one million copies sold!\\n\\nTiny Changes, Remarkable Results\\n\\nNo matter your goals, Atomic Habits offers a proven framework for improving - every day. James Clear, one of the world's leading experts on habit formation, reveals practical strategies that will teach you exactly how to form good habits, break bad ones, and master the tiny behaviors that lead to remarkable results.\\n\\nIf you're having trouble changing your habits, the problem isn't you. The problem is your system. Bad habits repeat themselves again and again not because you don't want to change, but because you have the wrong system for change. You do not rise to the level of your goals. You fall to the level of your systems. Here, you'll get a proven system that can take you to new heights.\\n\\nClear is known for his ability to distill complex topics into simple behaviors that can be easily applied to daily life and work. Here, he draws on the most proven ideas from biology, psychology, and neuroscience to create an easy-to-understand guide for making good habits inevitable and bad habits impossible. Along the way, listeners will be inspired and entertained with true stories from Olympic gold medalists, award-winning artists, business leaders, life-saving physicians, and star comedians who have used the science of small habits to master their craft and vault to the top of their field.\\n\\nLearn how to:\\n\\n    Make time for new habits (even when life gets crazy)\\n    Overcome a lack of motivation and willpower\\n    Design your environment to make success easier\\n    Get back on track when you fall off course\\n    And much more\\n\\nAtomic Habits will reshape the way you think about progress and success, and give you the tools and strategies you need to transform your habits - whether you are a team looking to win a championship, an organization hoping to redefine an industry, or simply an individual who wishes to quit smoking, lose weight, reduce stress, or achieve any other goal.\", metadata={'author': 'James Clear', 'genre': 'self-help', 'price': 25.99, 'rating': 4.8, 'title': 'Atomic Habits: An Easy & Proven Way to Build Good Habits & Break Bad Ones', 'year': 2018}),\n",
       "  Document(page_content=\"#1 NATIONAL BESTSELLER \\n\\n#1 INTERNATIONAL BESTSELLER\\n\\nWhat does everyone in the modern world need to know?\\n\\nRenowned psychologist Jordan B. Peterson's answer to this most difficult of questions uniquely combines the hard-won truths of ancient tradition with the stunning revelations of cutting-edge scientific research.\\n\\nHumorous, surprising and informative, Dr. Peterson tells us why skateboarding boys and girls must be left alone, what terrible fate awaits those who criticize too easily, and why you should always pet a cat when you meet one on the street.\\n\\nWhat does the nervous system of the lowly lobster have to tell us about standing up straight (with our shoulders back) and about success in life? Why did ancient Egyptians worship the capacity to pay careful attention as the highest of gods? What dreadful paths do people tread when they become resentful, arrogant and vengeful?\\n\\nDr. Peterson journeys broadly, discussing discipline, freedom, adventure and responsibility, distilling the world's wisdom into 12 practical and profound rules for life. 12 Rules for Life shatters the modern commonplaces of science, faith and human nature, while transforming and ennobling the mind and spirit of its readers.\", metadata={'author': 'Jordan B. Peterson', 'genre': 'self-help', 'price': 20.0, 'rating': 4.7, 'title': '12 Rules for Life: An Antidote to Chaos', 'year': 2018})],\n",
       " 'en_reply': \"Thank you for your inquiry. Unfortunately, we do not have a book titled 'Holly' by Stephen King in our current inventory. If you are interested in other books by Stephen King, please let us know, and we would be happy to provide you with more information.\",\n",
       " 'output': \"Thank you for your inquiry. Unfortunately, we do not have a book titled 'Holly' by Stephen King in our current inventory. If you are interested in other books by Stephen King, please let us know, and we would be happy to provide you with more information.\"}"
      ]
     },
     "execution_count": 21,
     "metadata": {},
     "output_type": "execute_result"
    }
   ],
   "source": [
    "final_chain.invoke({'input': questions[4]})"
   ]
  },
  {
   "cell_type": "code",
   "execution_count": null,
   "id": "d77cdcba",
   "metadata": {},
   "outputs": [],
   "source": []
  },
  {
   "cell_type": "code",
   "execution_count": null,
   "id": "a160c770",
   "metadata": {},
   "outputs": [],
   "source": []
  },
  {
   "cell_type": "code",
   "execution_count": null,
   "id": "42b1ae00",
   "metadata": {},
   "outputs": [],
   "source": []
  }
 ],
 "metadata": {
  "kernelspec": {
   "display_name": "Python 3 (ipykernel)",
   "language": "python",
   "name": "python3"
  },
  "language_info": {
   "codemirror_mode": {
    "name": "ipython",
    "version": 3
   },
   "file_extension": ".py",
   "mimetype": "text/x-python",
   "name": "python",
   "nbconvert_exporter": "python",
   "pygments_lexer": "ipython3",
   "version": "3.11.5"
  }
 },
 "nbformat": 4,
 "nbformat_minor": 5
}
